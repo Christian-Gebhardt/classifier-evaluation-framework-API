{
 "cells": [
  {
   "cell_type": "code",
   "execution_count": 14,
   "id": "9e9b798d-cbce-4e32-928f-3b923391e5ff",
   "metadata": {},
   "outputs": [],
   "source": [
    "from sklearn.datasets import load_iris\n",
    "from sklearn.linear_model import SGDClassifier\n",
    "from sklearn.calibration import CalibratedClassifierCV\n",
    "from sklearn.model_selection import train_test_split\n",
    "import numpy as np"
   ]
  },
  {
   "cell_type": "code",
   "execution_count": 18,
   "id": "c6562b18-c3dd-44a5-908d-ab6b35818df9",
   "metadata": {},
   "outputs": [],
   "source": [
    "# Script that shows how to get y_true (true label vector), y_pred (predicted label vector) or y_proba (probability matrix)\n",
    "# as input for evaluation framework\n",
    "\n",
    "# Example dataset, replace this with your feature data matrix X and target vector y.\n",
    "df = load_iris()\n",
    "X = df.data\n",
    "y = df.target\n",
    "\n",
    "# Now split them into training and test data\n",
    "X_train, X_test, y_train, y_test = train_test_split(X, y, test_size=0.3, shuffle=True)\n",
    "\n",
    "# y_test is already the true label vector for later evaluation, so save y_test in .npy format\n",
    "np.save(\"y_true_iris\", y_test)\n",
    "\n",
    "# Train your classifier with training data and predict test labels (this might be a different process for your own model/classifier\n",
    "# but in the end you should have a vector with predicted labels)\n",
    "\n",
    "clf = SGDClassifier()\n",
    "clf.fit(X_train, y_train)\n",
    "\n",
    "y_pred = clf.predict(X_test)\n",
    "\n",
    "# Save y_pred in .npy format\n",
    "np.save(\"y_pred_iris\", y_test)\n",
    "\n",
    "# Finally if you want to analyze probabilistic values from the prediction of your classifier (or any sklearn classifier)\n",
    "# you need to have a nxc matrix, where n is the number of instances and c is the number of classes. So in every row there should\n",
    "# be all probabilities for each class. With most sklearn classifiers you can do the following:\n",
    "\n",
    "# This works for the SGD classifier we defined previously\n",
    "calibrator = CalibratedClassifierCV(clf, cv='prefit')\n",
    "model = calibrator.fit(X_train, y_train)\n",
    "y_proba = model.predict_proba(X_test)\n",
    "\n",
    "# print(\"Probabilistic matrix:\\n{0}\".format(y_proba_iris)) # uncomment this line to check probabilistic matrix format\n",
    "\n",
    "# save y_proba in .npy format\n",
    "np.save(\"y_proba_iris\", y_proba)"
   ]
  },
  {
   "cell_type": "code",
   "execution_count": null,
   "id": "f70a00e2-374e-4fc9-a6b2-93dc0108b9a6",
   "metadata": {},
   "outputs": [],
   "source": []
  }
 ],
 "metadata": {
  "kernelspec": {
   "display_name": "Python 3",
   "language": "python",
   "name": "python3"
  },
  "language_info": {
   "codemirror_mode": {
    "name": "ipython",
    "version": 3
   },
   "file_extension": ".py",
   "mimetype": "text/x-python",
   "name": "python",
   "nbconvert_exporter": "python",
   "pygments_lexer": "ipython3",
   "version": "3.8.8"
  }
 },
 "nbformat": 4,
 "nbformat_minor": 5
}
